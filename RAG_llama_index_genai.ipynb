{
  "nbformat": 4,
  "nbformat_minor": 0,
  "metadata": {
    "colab": {
      "provenance": [],
      "authorship_tag": "ABX9TyO1NktO4ykFAg3YA1qpW9ac",
      "include_colab_link": true
    },
    "kernelspec": {
      "name": "python3",
      "display_name": "Python 3"
    },
    "language_info": {
      "name": "python"
    },
    "widgets": {
      "application/vnd.jupyter.widget-state+json": {
        "368aa5fde4e042bfa44d78d6ce144c9e": {
          "model_module": "@jupyter-widgets/controls",
          "model_name": "HBoxModel",
          "model_module_version": "1.5.0",
          "state": {
            "_dom_classes": [],
            "_model_module": "@jupyter-widgets/controls",
            "_model_module_version": "1.5.0",
            "_model_name": "HBoxModel",
            "_view_count": null,
            "_view_module": "@jupyter-widgets/controls",
            "_view_module_version": "1.5.0",
            "_view_name": "HBoxView",
            "box_style": "",
            "children": [
              "IPY_MODEL_c05004d0f9cf4178ae74ca17e5e99980",
              "IPY_MODEL_2248ab362ef94958b38c13fa31d1f183",
              "IPY_MODEL_cff836f504ee490ba2f9f657d51759ae"
            ],
            "layout": "IPY_MODEL_6fa7331e6ec8424991efc8e4ad974e8c"
          }
        },
        "c05004d0f9cf4178ae74ca17e5e99980": {
          "model_module": "@jupyter-widgets/controls",
          "model_name": "HTMLModel",
          "model_module_version": "1.5.0",
          "state": {
            "_dom_classes": [],
            "_model_module": "@jupyter-widgets/controls",
            "_model_module_version": "1.5.0",
            "_model_name": "HTMLModel",
            "_view_count": null,
            "_view_module": "@jupyter-widgets/controls",
            "_view_module_version": "1.5.0",
            "_view_name": "HTMLView",
            "description": "",
            "description_tooltip": null,
            "layout": "IPY_MODEL_a1130b7a417042dda4bf1f50ee912715",
            "placeholder": "​",
            "style": "IPY_MODEL_b566b823a4e1468ca249124bf05852b2",
            "value": "Parsing nodes: 100%"
          }
        },
        "2248ab362ef94958b38c13fa31d1f183": {
          "model_module": "@jupyter-widgets/controls",
          "model_name": "FloatProgressModel",
          "model_module_version": "1.5.0",
          "state": {
            "_dom_classes": [],
            "_model_module": "@jupyter-widgets/controls",
            "_model_module_version": "1.5.0",
            "_model_name": "FloatProgressModel",
            "_view_count": null,
            "_view_module": "@jupyter-widgets/controls",
            "_view_module_version": "1.5.0",
            "_view_name": "ProgressView",
            "bar_style": "success",
            "description": "",
            "description_tooltip": null,
            "layout": "IPY_MODEL_2fecf2cc53974150bfc403183db9d5af",
            "max": 3,
            "min": 0,
            "orientation": "horizontal",
            "style": "IPY_MODEL_43231dd3f37240548f9a0f7c60169fe1",
            "value": 3
          }
        },
        "cff836f504ee490ba2f9f657d51759ae": {
          "model_module": "@jupyter-widgets/controls",
          "model_name": "HTMLModel",
          "model_module_version": "1.5.0",
          "state": {
            "_dom_classes": [],
            "_model_module": "@jupyter-widgets/controls",
            "_model_module_version": "1.5.0",
            "_model_name": "HTMLModel",
            "_view_count": null,
            "_view_module": "@jupyter-widgets/controls",
            "_view_module_version": "1.5.0",
            "_view_name": "HTMLView",
            "description": "",
            "description_tooltip": null,
            "layout": "IPY_MODEL_86d405ab072044a1ae061641024e5c05",
            "placeholder": "​",
            "style": "IPY_MODEL_fe026e51d8084b63b154b6ee5b869cdd",
            "value": " 3/3 [00:00&lt;00:00, 82.52it/s]"
          }
        },
        "6fa7331e6ec8424991efc8e4ad974e8c": {
          "model_module": "@jupyter-widgets/base",
          "model_name": "LayoutModel",
          "model_module_version": "1.2.0",
          "state": {
            "_model_module": "@jupyter-widgets/base",
            "_model_module_version": "1.2.0",
            "_model_name": "LayoutModel",
            "_view_count": null,
            "_view_module": "@jupyter-widgets/base",
            "_view_module_version": "1.2.0",
            "_view_name": "LayoutView",
            "align_content": null,
            "align_items": null,
            "align_self": null,
            "border": null,
            "bottom": null,
            "display": null,
            "flex": null,
            "flex_flow": null,
            "grid_area": null,
            "grid_auto_columns": null,
            "grid_auto_flow": null,
            "grid_auto_rows": null,
            "grid_column": null,
            "grid_gap": null,
            "grid_row": null,
            "grid_template_areas": null,
            "grid_template_columns": null,
            "grid_template_rows": null,
            "height": null,
            "justify_content": null,
            "justify_items": null,
            "left": null,
            "margin": null,
            "max_height": null,
            "max_width": null,
            "min_height": null,
            "min_width": null,
            "object_fit": null,
            "object_position": null,
            "order": null,
            "overflow": null,
            "overflow_x": null,
            "overflow_y": null,
            "padding": null,
            "right": null,
            "top": null,
            "visibility": null,
            "width": null
          }
        },
        "a1130b7a417042dda4bf1f50ee912715": {
          "model_module": "@jupyter-widgets/base",
          "model_name": "LayoutModel",
          "model_module_version": "1.2.0",
          "state": {
            "_model_module": "@jupyter-widgets/base",
            "_model_module_version": "1.2.0",
            "_model_name": "LayoutModel",
            "_view_count": null,
            "_view_module": "@jupyter-widgets/base",
            "_view_module_version": "1.2.0",
            "_view_name": "LayoutView",
            "align_content": null,
            "align_items": null,
            "align_self": null,
            "border": null,
            "bottom": null,
            "display": null,
            "flex": null,
            "flex_flow": null,
            "grid_area": null,
            "grid_auto_columns": null,
            "grid_auto_flow": null,
            "grid_auto_rows": null,
            "grid_column": null,
            "grid_gap": null,
            "grid_row": null,
            "grid_template_areas": null,
            "grid_template_columns": null,
            "grid_template_rows": null,
            "height": null,
            "justify_content": null,
            "justify_items": null,
            "left": null,
            "margin": null,
            "max_height": null,
            "max_width": null,
            "min_height": null,
            "min_width": null,
            "object_fit": null,
            "object_position": null,
            "order": null,
            "overflow": null,
            "overflow_x": null,
            "overflow_y": null,
            "padding": null,
            "right": null,
            "top": null,
            "visibility": null,
            "width": null
          }
        },
        "b566b823a4e1468ca249124bf05852b2": {
          "model_module": "@jupyter-widgets/controls",
          "model_name": "DescriptionStyleModel",
          "model_module_version": "1.5.0",
          "state": {
            "_model_module": "@jupyter-widgets/controls",
            "_model_module_version": "1.5.0",
            "_model_name": "DescriptionStyleModel",
            "_view_count": null,
            "_view_module": "@jupyter-widgets/base",
            "_view_module_version": "1.2.0",
            "_view_name": "StyleView",
            "description_width": ""
          }
        },
        "2fecf2cc53974150bfc403183db9d5af": {
          "model_module": "@jupyter-widgets/base",
          "model_name": "LayoutModel",
          "model_module_version": "1.2.0",
          "state": {
            "_model_module": "@jupyter-widgets/base",
            "_model_module_version": "1.2.0",
            "_model_name": "LayoutModel",
            "_view_count": null,
            "_view_module": "@jupyter-widgets/base",
            "_view_module_version": "1.2.0",
            "_view_name": "LayoutView",
            "align_content": null,
            "align_items": null,
            "align_self": null,
            "border": null,
            "bottom": null,
            "display": null,
            "flex": null,
            "flex_flow": null,
            "grid_area": null,
            "grid_auto_columns": null,
            "grid_auto_flow": null,
            "grid_auto_rows": null,
            "grid_column": null,
            "grid_gap": null,
            "grid_row": null,
            "grid_template_areas": null,
            "grid_template_columns": null,
            "grid_template_rows": null,
            "height": null,
            "justify_content": null,
            "justify_items": null,
            "left": null,
            "margin": null,
            "max_height": null,
            "max_width": null,
            "min_height": null,
            "min_width": null,
            "object_fit": null,
            "object_position": null,
            "order": null,
            "overflow": null,
            "overflow_x": null,
            "overflow_y": null,
            "padding": null,
            "right": null,
            "top": null,
            "visibility": null,
            "width": null
          }
        },
        "43231dd3f37240548f9a0f7c60169fe1": {
          "model_module": "@jupyter-widgets/controls",
          "model_name": "ProgressStyleModel",
          "model_module_version": "1.5.0",
          "state": {
            "_model_module": "@jupyter-widgets/controls",
            "_model_module_version": "1.5.0",
            "_model_name": "ProgressStyleModel",
            "_view_count": null,
            "_view_module": "@jupyter-widgets/base",
            "_view_module_version": "1.2.0",
            "_view_name": "StyleView",
            "bar_color": null,
            "description_width": ""
          }
        },
        "86d405ab072044a1ae061641024e5c05": {
          "model_module": "@jupyter-widgets/base",
          "model_name": "LayoutModel",
          "model_module_version": "1.2.0",
          "state": {
            "_model_module": "@jupyter-widgets/base",
            "_model_module_version": "1.2.0",
            "_model_name": "LayoutModel",
            "_view_count": null,
            "_view_module": "@jupyter-widgets/base",
            "_view_module_version": "1.2.0",
            "_view_name": "LayoutView",
            "align_content": null,
            "align_items": null,
            "align_self": null,
            "border": null,
            "bottom": null,
            "display": null,
            "flex": null,
            "flex_flow": null,
            "grid_area": null,
            "grid_auto_columns": null,
            "grid_auto_flow": null,
            "grid_auto_rows": null,
            "grid_column": null,
            "grid_gap": null,
            "grid_row": null,
            "grid_template_areas": null,
            "grid_template_columns": null,
            "grid_template_rows": null,
            "height": null,
            "justify_content": null,
            "justify_items": null,
            "left": null,
            "margin": null,
            "max_height": null,
            "max_width": null,
            "min_height": null,
            "min_width": null,
            "object_fit": null,
            "object_position": null,
            "order": null,
            "overflow": null,
            "overflow_x": null,
            "overflow_y": null,
            "padding": null,
            "right": null,
            "top": null,
            "visibility": null,
            "width": null
          }
        },
        "fe026e51d8084b63b154b6ee5b869cdd": {
          "model_module": "@jupyter-widgets/controls",
          "model_name": "DescriptionStyleModel",
          "model_module_version": "1.5.0",
          "state": {
            "_model_module": "@jupyter-widgets/controls",
            "_model_module_version": "1.5.0",
            "_model_name": "DescriptionStyleModel",
            "_view_count": null,
            "_view_module": "@jupyter-widgets/base",
            "_view_module_version": "1.2.0",
            "_view_name": "StyleView",
            "description_width": ""
          }
        },
        "d571fd13f9ec4889af6064933c0e2b25": {
          "model_module": "@jupyter-widgets/controls",
          "model_name": "HBoxModel",
          "model_module_version": "1.5.0",
          "state": {
            "_dom_classes": [],
            "_model_module": "@jupyter-widgets/controls",
            "_model_module_version": "1.5.0",
            "_model_name": "HBoxModel",
            "_view_count": null,
            "_view_module": "@jupyter-widgets/controls",
            "_view_module_version": "1.5.0",
            "_view_name": "HBoxView",
            "box_style": "",
            "children": [
              "IPY_MODEL_766a0eb299144271a46d6300e7bb3762",
              "IPY_MODEL_43677fac9584496d884e19ce51439d5d",
              "IPY_MODEL_4a8be10ca3c44f3396e15c6a437dbb3c"
            ],
            "layout": "IPY_MODEL_9da48da9f7cd4212bb5fd49853e21baa"
          }
        },
        "766a0eb299144271a46d6300e7bb3762": {
          "model_module": "@jupyter-widgets/controls",
          "model_name": "HTMLModel",
          "model_module_version": "1.5.0",
          "state": {
            "_dom_classes": [],
            "_model_module": "@jupyter-widgets/controls",
            "_model_module_version": "1.5.0",
            "_model_name": "HTMLModel",
            "_view_count": null,
            "_view_module": "@jupyter-widgets/controls",
            "_view_module_version": "1.5.0",
            "_view_name": "HTMLView",
            "description": "",
            "description_tooltip": null,
            "layout": "IPY_MODEL_5bc8d963d45744629a05c325a7a2e37d",
            "placeholder": "​",
            "style": "IPY_MODEL_bfce5d2a7faa43439cbbeb0e35fd43b6",
            "value": "Generating embeddings: 100%"
          }
        },
        "43677fac9584496d884e19ce51439d5d": {
          "model_module": "@jupyter-widgets/controls",
          "model_name": "FloatProgressModel",
          "model_module_version": "1.5.0",
          "state": {
            "_dom_classes": [],
            "_model_module": "@jupyter-widgets/controls",
            "_model_module_version": "1.5.0",
            "_model_name": "FloatProgressModel",
            "_view_count": null,
            "_view_module": "@jupyter-widgets/controls",
            "_view_module_version": "1.5.0",
            "_view_name": "ProgressView",
            "bar_style": "success",
            "description": "",
            "description_tooltip": null,
            "layout": "IPY_MODEL_69d89596b36d460080781a52230454ee",
            "max": 3,
            "min": 0,
            "orientation": "horizontal",
            "style": "IPY_MODEL_b0dcc99da7b74993b1b09c2ef148580b",
            "value": 3
          }
        },
        "4a8be10ca3c44f3396e15c6a437dbb3c": {
          "model_module": "@jupyter-widgets/controls",
          "model_name": "HTMLModel",
          "model_module_version": "1.5.0",
          "state": {
            "_dom_classes": [],
            "_model_module": "@jupyter-widgets/controls",
            "_model_module_version": "1.5.0",
            "_model_name": "HTMLModel",
            "_view_count": null,
            "_view_module": "@jupyter-widgets/controls",
            "_view_module_version": "1.5.0",
            "_view_name": "HTMLView",
            "description": "",
            "description_tooltip": null,
            "layout": "IPY_MODEL_4e88e7a127194f098c27c2f9bd7b1018",
            "placeholder": "​",
            "style": "IPY_MODEL_8ac38f1778bb451d82055e8fff071b00",
            "value": " 3/3 [00:00&lt;00:00,  3.76it/s]"
          }
        },
        "9da48da9f7cd4212bb5fd49853e21baa": {
          "model_module": "@jupyter-widgets/base",
          "model_name": "LayoutModel",
          "model_module_version": "1.2.0",
          "state": {
            "_model_module": "@jupyter-widgets/base",
            "_model_module_version": "1.2.0",
            "_model_name": "LayoutModel",
            "_view_count": null,
            "_view_module": "@jupyter-widgets/base",
            "_view_module_version": "1.2.0",
            "_view_name": "LayoutView",
            "align_content": null,
            "align_items": null,
            "align_self": null,
            "border": null,
            "bottom": null,
            "display": null,
            "flex": null,
            "flex_flow": null,
            "grid_area": null,
            "grid_auto_columns": null,
            "grid_auto_flow": null,
            "grid_auto_rows": null,
            "grid_column": null,
            "grid_gap": null,
            "grid_row": null,
            "grid_template_areas": null,
            "grid_template_columns": null,
            "grid_template_rows": null,
            "height": null,
            "justify_content": null,
            "justify_items": null,
            "left": null,
            "margin": null,
            "max_height": null,
            "max_width": null,
            "min_height": null,
            "min_width": null,
            "object_fit": null,
            "object_position": null,
            "order": null,
            "overflow": null,
            "overflow_x": null,
            "overflow_y": null,
            "padding": null,
            "right": null,
            "top": null,
            "visibility": null,
            "width": null
          }
        },
        "5bc8d963d45744629a05c325a7a2e37d": {
          "model_module": "@jupyter-widgets/base",
          "model_name": "LayoutModel",
          "model_module_version": "1.2.0",
          "state": {
            "_model_module": "@jupyter-widgets/base",
            "_model_module_version": "1.2.0",
            "_model_name": "LayoutModel",
            "_view_count": null,
            "_view_module": "@jupyter-widgets/base",
            "_view_module_version": "1.2.0",
            "_view_name": "LayoutView",
            "align_content": null,
            "align_items": null,
            "align_self": null,
            "border": null,
            "bottom": null,
            "display": null,
            "flex": null,
            "flex_flow": null,
            "grid_area": null,
            "grid_auto_columns": null,
            "grid_auto_flow": null,
            "grid_auto_rows": null,
            "grid_column": null,
            "grid_gap": null,
            "grid_row": null,
            "grid_template_areas": null,
            "grid_template_columns": null,
            "grid_template_rows": null,
            "height": null,
            "justify_content": null,
            "justify_items": null,
            "left": null,
            "margin": null,
            "max_height": null,
            "max_width": null,
            "min_height": null,
            "min_width": null,
            "object_fit": null,
            "object_position": null,
            "order": null,
            "overflow": null,
            "overflow_x": null,
            "overflow_y": null,
            "padding": null,
            "right": null,
            "top": null,
            "visibility": null,
            "width": null
          }
        },
        "bfce5d2a7faa43439cbbeb0e35fd43b6": {
          "model_module": "@jupyter-widgets/controls",
          "model_name": "DescriptionStyleModel",
          "model_module_version": "1.5.0",
          "state": {
            "_model_module": "@jupyter-widgets/controls",
            "_model_module_version": "1.5.0",
            "_model_name": "DescriptionStyleModel",
            "_view_count": null,
            "_view_module": "@jupyter-widgets/base",
            "_view_module_version": "1.2.0",
            "_view_name": "StyleView",
            "description_width": ""
          }
        },
        "69d89596b36d460080781a52230454ee": {
          "model_module": "@jupyter-widgets/base",
          "model_name": "LayoutModel",
          "model_module_version": "1.2.0",
          "state": {
            "_model_module": "@jupyter-widgets/base",
            "_model_module_version": "1.2.0",
            "_model_name": "LayoutModel",
            "_view_count": null,
            "_view_module": "@jupyter-widgets/base",
            "_view_module_version": "1.2.0",
            "_view_name": "LayoutView",
            "align_content": null,
            "align_items": null,
            "align_self": null,
            "border": null,
            "bottom": null,
            "display": null,
            "flex": null,
            "flex_flow": null,
            "grid_area": null,
            "grid_auto_columns": null,
            "grid_auto_flow": null,
            "grid_auto_rows": null,
            "grid_column": null,
            "grid_gap": null,
            "grid_row": null,
            "grid_template_areas": null,
            "grid_template_columns": null,
            "grid_template_rows": null,
            "height": null,
            "justify_content": null,
            "justify_items": null,
            "left": null,
            "margin": null,
            "max_height": null,
            "max_width": null,
            "min_height": null,
            "min_width": null,
            "object_fit": null,
            "object_position": null,
            "order": null,
            "overflow": null,
            "overflow_x": null,
            "overflow_y": null,
            "padding": null,
            "right": null,
            "top": null,
            "visibility": null,
            "width": null
          }
        },
        "b0dcc99da7b74993b1b09c2ef148580b": {
          "model_module": "@jupyter-widgets/controls",
          "model_name": "ProgressStyleModel",
          "model_module_version": "1.5.0",
          "state": {
            "_model_module": "@jupyter-widgets/controls",
            "_model_module_version": "1.5.0",
            "_model_name": "ProgressStyleModel",
            "_view_count": null,
            "_view_module": "@jupyter-widgets/base",
            "_view_module_version": "1.2.0",
            "_view_name": "StyleView",
            "bar_color": null,
            "description_width": ""
          }
        },
        "4e88e7a127194f098c27c2f9bd7b1018": {
          "model_module": "@jupyter-widgets/base",
          "model_name": "LayoutModel",
          "model_module_version": "1.2.0",
          "state": {
            "_model_module": "@jupyter-widgets/base",
            "_model_module_version": "1.2.0",
            "_model_name": "LayoutModel",
            "_view_count": null,
            "_view_module": "@jupyter-widgets/base",
            "_view_module_version": "1.2.0",
            "_view_name": "LayoutView",
            "align_content": null,
            "align_items": null,
            "align_self": null,
            "border": null,
            "bottom": null,
            "display": null,
            "flex": null,
            "flex_flow": null,
            "grid_area": null,
            "grid_auto_columns": null,
            "grid_auto_flow": null,
            "grid_auto_rows": null,
            "grid_column": null,
            "grid_gap": null,
            "grid_row": null,
            "grid_template_areas": null,
            "grid_template_columns": null,
            "grid_template_rows": null,
            "height": null,
            "justify_content": null,
            "justify_items": null,
            "left": null,
            "margin": null,
            "max_height": null,
            "max_width": null,
            "min_height": null,
            "min_width": null,
            "object_fit": null,
            "object_position": null,
            "order": null,
            "overflow": null,
            "overflow_x": null,
            "overflow_y": null,
            "padding": null,
            "right": null,
            "top": null,
            "visibility": null,
            "width": null
          }
        },
        "8ac38f1778bb451d82055e8fff071b00": {
          "model_module": "@jupyter-widgets/controls",
          "model_name": "DescriptionStyleModel",
          "model_module_version": "1.5.0",
          "state": {
            "_model_module": "@jupyter-widgets/controls",
            "_model_module_version": "1.5.0",
            "_model_name": "DescriptionStyleModel",
            "_view_count": null,
            "_view_module": "@jupyter-widgets/base",
            "_view_module_version": "1.2.0",
            "_view_name": "StyleView",
            "description_width": ""
          }
        }
      }
    }
  },
  "cells": [
    {
      "cell_type": "markdown",
      "metadata": {
        "id": "view-in-github",
        "colab_type": "text"
      },
      "source": [
        "<a href=\"https://colab.research.google.com/github/shriju/RAG-llamaindex-genai/blob/main/RAG_llama_index_genai.ipynb\" target=\"_parent\"><img src=\"https://colab.research.google.com/assets/colab-badge.svg\" alt=\"Open In Colab\"/></a>"
      ]
    },
    {
      "cell_type": "markdown",
      "source": [
        "# RAG application on candidates' resumes using llama-index and openai"
      ],
      "metadata": {
        "id": "9nSS7bxTXDfY"
      }
    },
    {
      "cell_type": "code",
      "execution_count": 1,
      "metadata": {
        "colab": {
          "base_uri": "https://localhost:8080/"
        },
        "id": "f8Xe6WisP1jE",
        "outputId": "1f56c78b-17ea-4449-ee39-7473565fa159"
      },
      "outputs": [
        {
          "output_type": "stream",
          "name": "stdout",
          "text": [
            "Collecting llama-index\n",
            "  Downloading llama_index-0.10.40-py3-none-any.whl (6.8 kB)\n",
            "Collecting llama-index-agent-openai<0.3.0,>=0.1.4 (from llama-index)\n",
            "  Downloading llama_index_agent_openai-0.2.5-py3-none-any.whl (13 kB)\n",
            "Collecting llama-index-cli<0.2.0,>=0.1.2 (from llama-index)\n",
            "  Downloading llama_index_cli-0.1.12-py3-none-any.whl (26 kB)\n",
            "Collecting llama-index-core<0.11.0,>=0.10.40 (from llama-index)\n",
            "  Downloading llama_index_core-0.10.40-py3-none-any.whl (15.4 MB)\n",
            "\u001b[2K     \u001b[90m━━━━━━━━━━━━━━━━━━━━━━━━━━━━━━━━━━━━━━━━\u001b[0m \u001b[32m15.4/15.4 MB\u001b[0m \u001b[31m49.0 MB/s\u001b[0m eta \u001b[36m0:00:00\u001b[0m\n",
            "\u001b[?25hCollecting llama-index-embeddings-openai<0.2.0,>=0.1.5 (from llama-index)\n",
            "  Downloading llama_index_embeddings_openai-0.1.10-py3-none-any.whl (6.2 kB)\n",
            "Collecting llama-index-indices-managed-llama-cloud<0.2.0,>=0.1.2 (from llama-index)\n",
            "  Downloading llama_index_indices_managed_llama_cloud-0.1.6-py3-none-any.whl (6.7 kB)\n",
            "Collecting llama-index-legacy<0.10.0,>=0.9.48 (from llama-index)\n",
            "  Downloading llama_index_legacy-0.9.48-py3-none-any.whl (2.0 MB)\n",
            "\u001b[2K     \u001b[90m━━━━━━━━━━━━━━━━━━━━━━━━━━━━━━━━━━━━━━━━\u001b[0m \u001b[32m2.0/2.0 MB\u001b[0m \u001b[31m51.8 MB/s\u001b[0m eta \u001b[36m0:00:00\u001b[0m\n",
            "\u001b[?25hCollecting llama-index-llms-openai<0.2.0,>=0.1.13 (from llama-index)\n",
            "  Downloading llama_index_llms_openai-0.1.21-py3-none-any.whl (11 kB)\n",
            "Collecting llama-index-multi-modal-llms-openai<0.2.0,>=0.1.3 (from llama-index)\n",
            "  Downloading llama_index_multi_modal_llms_openai-0.1.6-py3-none-any.whl (5.8 kB)\n",
            "Collecting llama-index-program-openai<0.2.0,>=0.1.3 (from llama-index)\n",
            "  Downloading llama_index_program_openai-0.1.6-py3-none-any.whl (5.2 kB)\n",
            "Collecting llama-index-question-gen-openai<0.2.0,>=0.1.2 (from llama-index)\n",
            "  Downloading llama_index_question_gen_openai-0.1.3-py3-none-any.whl (2.9 kB)\n",
            "Collecting llama-index-readers-file<0.2.0,>=0.1.4 (from llama-index)\n",
            "  Downloading llama_index_readers_file-0.1.23-py3-none-any.whl (36 kB)\n",
            "Collecting llama-index-readers-llama-parse<0.2.0,>=0.1.2 (from llama-index)\n",
            "  Downloading llama_index_readers_llama_parse-0.1.4-py3-none-any.whl (2.5 kB)\n",
            "Collecting openai>=1.14.0 (from llama-index-agent-openai<0.3.0,>=0.1.4->llama-index)\n",
            "  Downloading openai-1.30.4-py3-none-any.whl (320 kB)\n",
            "\u001b[2K     \u001b[90m━━━━━━━━━━━━━━━━━━━━━━━━━━━━━━━━━━━━━━━━\u001b[0m \u001b[32m320.6/320.6 kB\u001b[0m \u001b[31m14.0 MB/s\u001b[0m eta \u001b[36m0:00:00\u001b[0m\n",
            "\u001b[?25hRequirement already satisfied: PyYAML>=6.0.1 in /usr/local/lib/python3.10/dist-packages (from llama-index-core<0.11.0,>=0.10.40->llama-index) (6.0.1)\n",
            "Requirement already satisfied: SQLAlchemy[asyncio]>=1.4.49 in /usr/local/lib/python3.10/dist-packages (from llama-index-core<0.11.0,>=0.10.40->llama-index) (2.0.30)\n",
            "Requirement already satisfied: aiohttp<4.0.0,>=3.8.6 in /usr/local/lib/python3.10/dist-packages (from llama-index-core<0.11.0,>=0.10.40->llama-index) (3.9.5)\n",
            "Collecting dataclasses-json (from llama-index-core<0.11.0,>=0.10.40->llama-index)\n",
            "  Downloading dataclasses_json-0.6.6-py3-none-any.whl (28 kB)\n",
            "Collecting deprecated>=1.2.9.3 (from llama-index-core<0.11.0,>=0.10.40->llama-index)\n",
            "  Downloading Deprecated-1.2.14-py2.py3-none-any.whl (9.6 kB)\n",
            "Collecting dirtyjson<2.0.0,>=1.0.8 (from llama-index-core<0.11.0,>=0.10.40->llama-index)\n",
            "  Downloading dirtyjson-1.0.8-py3-none-any.whl (25 kB)\n",
            "Requirement already satisfied: fsspec>=2023.5.0 in /usr/local/lib/python3.10/dist-packages (from llama-index-core<0.11.0,>=0.10.40->llama-index) (2023.6.0)\n",
            "Collecting httpx (from llama-index-core<0.11.0,>=0.10.40->llama-index)\n",
            "  Downloading httpx-0.27.0-py3-none-any.whl (75 kB)\n",
            "\u001b[2K     \u001b[90m━━━━━━━━━━━━━━━━━━━━━━━━━━━━━━━━━━━━━━━━\u001b[0m \u001b[32m75.6/75.6 kB\u001b[0m \u001b[31m4.0 MB/s\u001b[0m eta \u001b[36m0:00:00\u001b[0m\n",
            "\u001b[?25hCollecting llamaindex-py-client<0.2.0,>=0.1.18 (from llama-index-core<0.11.0,>=0.10.40->llama-index)\n",
            "  Downloading llamaindex_py_client-0.1.19-py3-none-any.whl (141 kB)\n",
            "\u001b[2K     \u001b[90m━━━━━━━━━━━━━━━━━━━━━━━━━━━━━━━━━━━━━━━━\u001b[0m \u001b[32m141.9/141.9 kB\u001b[0m \u001b[31m5.7 MB/s\u001b[0m eta \u001b[36m0:00:00\u001b[0m\n",
            "\u001b[?25hRequirement already satisfied: nest-asyncio<2.0.0,>=1.5.8 in /usr/local/lib/python3.10/dist-packages (from llama-index-core<0.11.0,>=0.10.40->llama-index) (1.6.0)\n",
            "Requirement already satisfied: networkx>=3.0 in /usr/local/lib/python3.10/dist-packages (from llama-index-core<0.11.0,>=0.10.40->llama-index) (3.3)\n",
            "Requirement already satisfied: nltk<4.0.0,>=3.8.1 in /usr/local/lib/python3.10/dist-packages (from llama-index-core<0.11.0,>=0.10.40->llama-index) (3.8.1)\n",
            "Requirement already satisfied: numpy in /usr/local/lib/python3.10/dist-packages (from llama-index-core<0.11.0,>=0.10.40->llama-index) (1.25.2)\n",
            "Requirement already satisfied: pandas in /usr/local/lib/python3.10/dist-packages (from llama-index-core<0.11.0,>=0.10.40->llama-index) (2.0.3)\n",
            "Requirement already satisfied: pillow>=9.0.0 in /usr/local/lib/python3.10/dist-packages (from llama-index-core<0.11.0,>=0.10.40->llama-index) (9.4.0)\n",
            "Requirement already satisfied: requests>=2.31.0 in /usr/local/lib/python3.10/dist-packages (from llama-index-core<0.11.0,>=0.10.40->llama-index) (2.31.0)\n",
            "Requirement already satisfied: tenacity<9.0.0,>=8.2.0 in /usr/local/lib/python3.10/dist-packages (from llama-index-core<0.11.0,>=0.10.40->llama-index) (8.3.0)\n",
            "Collecting tiktoken>=0.3.3 (from llama-index-core<0.11.0,>=0.10.40->llama-index)\n",
            "  Downloading tiktoken-0.7.0-cp310-cp310-manylinux_2_17_x86_64.manylinux2014_x86_64.whl (1.1 MB)\n",
            "\u001b[2K     \u001b[90m━━━━━━━━━━━━━━━━━━━━━━━━━━━━━━━━━━━━━━━━\u001b[0m \u001b[32m1.1/1.1 MB\u001b[0m \u001b[31m45.6 MB/s\u001b[0m eta \u001b[36m0:00:00\u001b[0m\n",
            "\u001b[?25hRequirement already satisfied: tqdm<5.0.0,>=4.66.1 in /usr/local/lib/python3.10/dist-packages (from llama-index-core<0.11.0,>=0.10.40->llama-index) (4.66.4)\n",
            "Requirement already satisfied: typing-extensions>=4.5.0 in /usr/local/lib/python3.10/dist-packages (from llama-index-core<0.11.0,>=0.10.40->llama-index) (4.11.0)\n",
            "Collecting typing-inspect>=0.8.0 (from llama-index-core<0.11.0,>=0.10.40->llama-index)\n",
            "  Downloading typing_inspect-0.9.0-py3-none-any.whl (8.8 kB)\n",
            "Requirement already satisfied: wrapt in /usr/local/lib/python3.10/dist-packages (from llama-index-core<0.11.0,>=0.10.40->llama-index) (1.14.1)\n",
            "Requirement already satisfied: beautifulsoup4<5.0.0,>=4.12.3 in /usr/local/lib/python3.10/dist-packages (from llama-index-readers-file<0.2.0,>=0.1.4->llama-index) (4.12.3)\n",
            "Collecting pypdf<5.0.0,>=4.0.1 (from llama-index-readers-file<0.2.0,>=0.1.4->llama-index)\n",
            "  Downloading pypdf-4.2.0-py3-none-any.whl (290 kB)\n",
            "\u001b[2K     \u001b[90m━━━━━━━━━━━━━━━━━━━━━━━━━━━━━━━━━━━━━━━━\u001b[0m \u001b[32m290.4/290.4 kB\u001b[0m \u001b[31m25.1 MB/s\u001b[0m eta \u001b[36m0:00:00\u001b[0m\n",
            "\u001b[?25hCollecting striprtf<0.0.27,>=0.0.26 (from llama-index-readers-file<0.2.0,>=0.1.4->llama-index)\n",
            "  Downloading striprtf-0.0.26-py3-none-any.whl (6.9 kB)\n",
            "Collecting llama-parse<0.5.0,>=0.4.0 (from llama-index-readers-llama-parse<0.2.0,>=0.1.2->llama-index)\n",
            "  Downloading llama_parse-0.4.4-py3-none-any.whl (8.0 kB)\n",
            "Requirement already satisfied: aiosignal>=1.1.2 in /usr/local/lib/python3.10/dist-packages (from aiohttp<4.0.0,>=3.8.6->llama-index-core<0.11.0,>=0.10.40->llama-index) (1.3.1)\n",
            "Requirement already satisfied: attrs>=17.3.0 in /usr/local/lib/python3.10/dist-packages (from aiohttp<4.0.0,>=3.8.6->llama-index-core<0.11.0,>=0.10.40->llama-index) (23.2.0)\n",
            "Requirement already satisfied: frozenlist>=1.1.1 in /usr/local/lib/python3.10/dist-packages (from aiohttp<4.0.0,>=3.8.6->llama-index-core<0.11.0,>=0.10.40->llama-index) (1.4.1)\n",
            "Requirement already satisfied: multidict<7.0,>=4.5 in /usr/local/lib/python3.10/dist-packages (from aiohttp<4.0.0,>=3.8.6->llama-index-core<0.11.0,>=0.10.40->llama-index) (6.0.5)\n",
            "Requirement already satisfied: yarl<2.0,>=1.0 in /usr/local/lib/python3.10/dist-packages (from aiohttp<4.0.0,>=3.8.6->llama-index-core<0.11.0,>=0.10.40->llama-index) (1.9.4)\n",
            "Requirement already satisfied: async-timeout<5.0,>=4.0 in /usr/local/lib/python3.10/dist-packages (from aiohttp<4.0.0,>=3.8.6->llama-index-core<0.11.0,>=0.10.40->llama-index) (4.0.3)\n",
            "Requirement already satisfied: soupsieve>1.2 in /usr/local/lib/python3.10/dist-packages (from beautifulsoup4<5.0.0,>=4.12.3->llama-index-readers-file<0.2.0,>=0.1.4->llama-index) (2.5)\n",
            "Requirement already satisfied: pydantic>=1.10 in /usr/local/lib/python3.10/dist-packages (from llamaindex-py-client<0.2.0,>=0.1.18->llama-index-core<0.11.0,>=0.10.40->llama-index) (2.7.1)\n",
            "Requirement already satisfied: anyio in /usr/local/lib/python3.10/dist-packages (from httpx->llama-index-core<0.11.0,>=0.10.40->llama-index) (3.7.1)\n",
            "Requirement already satisfied: certifi in /usr/local/lib/python3.10/dist-packages (from httpx->llama-index-core<0.11.0,>=0.10.40->llama-index) (2024.2.2)\n",
            "Collecting httpcore==1.* (from httpx->llama-index-core<0.11.0,>=0.10.40->llama-index)\n",
            "  Downloading httpcore-1.0.5-py3-none-any.whl (77 kB)\n",
            "\u001b[2K     \u001b[90m━━━━━━━━━━━━━━━━━━━━━━━━━━━━━━━━━━━━━━━━\u001b[0m \u001b[32m77.9/77.9 kB\u001b[0m \u001b[31m5.5 MB/s\u001b[0m eta \u001b[36m0:00:00\u001b[0m\n",
            "\u001b[?25hRequirement already satisfied: idna in /usr/local/lib/python3.10/dist-packages (from httpx->llama-index-core<0.11.0,>=0.10.40->llama-index) (3.7)\n",
            "Requirement already satisfied: sniffio in /usr/local/lib/python3.10/dist-packages (from httpx->llama-index-core<0.11.0,>=0.10.40->llama-index) (1.3.1)\n",
            "Collecting h11<0.15,>=0.13 (from httpcore==1.*->httpx->llama-index-core<0.11.0,>=0.10.40->llama-index)\n",
            "  Downloading h11-0.14.0-py3-none-any.whl (58 kB)\n",
            "\u001b[2K     \u001b[90m━━━━━━━━━━━━━━━━━━━━━━━━━━━━━━━━━━━━━━━━\u001b[0m \u001b[32m58.3/58.3 kB\u001b[0m \u001b[31m6.4 MB/s\u001b[0m eta \u001b[36m0:00:00\u001b[0m\n",
            "\u001b[?25hRequirement already satisfied: click in /usr/local/lib/python3.10/dist-packages (from nltk<4.0.0,>=3.8.1->llama-index-core<0.11.0,>=0.10.40->llama-index) (8.1.7)\n",
            "Requirement already satisfied: joblib in /usr/local/lib/python3.10/dist-packages (from nltk<4.0.0,>=3.8.1->llama-index-core<0.11.0,>=0.10.40->llama-index) (1.4.2)\n",
            "Requirement already satisfied: regex>=2021.8.3 in /usr/local/lib/python3.10/dist-packages (from nltk<4.0.0,>=3.8.1->llama-index-core<0.11.0,>=0.10.40->llama-index) (2024.5.15)\n",
            "Requirement already satisfied: distro<2,>=1.7.0 in /usr/lib/python3/dist-packages (from openai>=1.14.0->llama-index-agent-openai<0.3.0,>=0.1.4->llama-index) (1.7.0)\n",
            "Requirement already satisfied: charset-normalizer<4,>=2 in /usr/local/lib/python3.10/dist-packages (from requests>=2.31.0->llama-index-core<0.11.0,>=0.10.40->llama-index) (3.3.2)\n",
            "Requirement already satisfied: urllib3<3,>=1.21.1 in /usr/local/lib/python3.10/dist-packages (from requests>=2.31.0->llama-index-core<0.11.0,>=0.10.40->llama-index) (2.0.7)\n",
            "Requirement already satisfied: greenlet!=0.4.17 in /usr/local/lib/python3.10/dist-packages (from SQLAlchemy[asyncio]>=1.4.49->llama-index-core<0.11.0,>=0.10.40->llama-index) (3.0.3)\n",
            "Collecting mypy-extensions>=0.3.0 (from typing-inspect>=0.8.0->llama-index-core<0.11.0,>=0.10.40->llama-index)\n",
            "  Downloading mypy_extensions-1.0.0-py3-none-any.whl (4.7 kB)\n",
            "Collecting marshmallow<4.0.0,>=3.18.0 (from dataclasses-json->llama-index-core<0.11.0,>=0.10.40->llama-index)\n",
            "  Downloading marshmallow-3.21.2-py3-none-any.whl (49 kB)\n",
            "\u001b[2K     \u001b[90m━━━━━━━━━━━━━━━━━━━━━━━━━━━━━━━━━━━━━━━━\u001b[0m \u001b[32m49.3/49.3 kB\u001b[0m \u001b[31m3.5 MB/s\u001b[0m eta \u001b[36m0:00:00\u001b[0m\n",
            "\u001b[?25hRequirement already satisfied: python-dateutil>=2.8.2 in /usr/local/lib/python3.10/dist-packages (from pandas->llama-index-core<0.11.0,>=0.10.40->llama-index) (2.8.2)\n",
            "Requirement already satisfied: pytz>=2020.1 in /usr/local/lib/python3.10/dist-packages (from pandas->llama-index-core<0.11.0,>=0.10.40->llama-index) (2023.4)\n",
            "Requirement already satisfied: tzdata>=2022.1 in /usr/local/lib/python3.10/dist-packages (from pandas->llama-index-core<0.11.0,>=0.10.40->llama-index) (2024.1)\n",
            "Requirement already satisfied: exceptiongroup in /usr/local/lib/python3.10/dist-packages (from anyio->httpx->llama-index-core<0.11.0,>=0.10.40->llama-index) (1.2.1)\n",
            "Requirement already satisfied: packaging>=17.0 in /usr/local/lib/python3.10/dist-packages (from marshmallow<4.0.0,>=3.18.0->dataclasses-json->llama-index-core<0.11.0,>=0.10.40->llama-index) (24.0)\n",
            "Requirement already satisfied: annotated-types>=0.4.0 in /usr/local/lib/python3.10/dist-packages (from pydantic>=1.10->llamaindex-py-client<0.2.0,>=0.1.18->llama-index-core<0.11.0,>=0.10.40->llama-index) (0.7.0)\n",
            "Requirement already satisfied: pydantic-core==2.18.2 in /usr/local/lib/python3.10/dist-packages (from pydantic>=1.10->llamaindex-py-client<0.2.0,>=0.1.18->llama-index-core<0.11.0,>=0.10.40->llama-index) (2.18.2)\n",
            "Requirement already satisfied: six>=1.5 in /usr/local/lib/python3.10/dist-packages (from python-dateutil>=2.8.2->pandas->llama-index-core<0.11.0,>=0.10.40->llama-index) (1.16.0)\n",
            "Installing collected packages: striprtf, dirtyjson, pypdf, mypy-extensions, marshmallow, h11, deprecated, typing-inspect, tiktoken, httpcore, httpx, dataclasses-json, openai, llamaindex-py-client, llama-index-legacy, llama-index-core, llama-parse, llama-index-readers-file, llama-index-llms-openai, llama-index-indices-managed-llama-cloud, llama-index-embeddings-openai, llama-index-readers-llama-parse, llama-index-multi-modal-llms-openai, llama-index-cli, llama-index-agent-openai, llama-index-program-openai, llama-index-question-gen-openai, llama-index\n",
            "Successfully installed dataclasses-json-0.6.6 deprecated-1.2.14 dirtyjson-1.0.8 h11-0.14.0 httpcore-1.0.5 httpx-0.27.0 llama-index-0.10.40 llama-index-agent-openai-0.2.5 llama-index-cli-0.1.12 llama-index-core-0.10.40 llama-index-embeddings-openai-0.1.10 llama-index-indices-managed-llama-cloud-0.1.6 llama-index-legacy-0.9.48 llama-index-llms-openai-0.1.21 llama-index-multi-modal-llms-openai-0.1.6 llama-index-program-openai-0.1.6 llama-index-question-gen-openai-0.1.3 llama-index-readers-file-0.1.23 llama-index-readers-llama-parse-0.1.4 llama-parse-0.4.4 llamaindex-py-client-0.1.19 marshmallow-3.21.2 mypy-extensions-1.0.0 openai-1.30.4 pypdf-4.2.0 striprtf-0.0.26 tiktoken-0.7.0 typing-inspect-0.9.0\n",
            "Collecting llama-hub\n",
            "  Downloading llama_hub-0.0.79.post1-py3-none-any.whl (103.9 MB)\n",
            "\u001b[2K     \u001b[90m━━━━━━━━━━━━━━━━━━━━━━━━━━━━━━━━━━━━━━━━\u001b[0m \u001b[32m103.9/103.9 MB\u001b[0m \u001b[31m6.9 MB/s\u001b[0m eta \u001b[36m0:00:00\u001b[0m\n",
            "\u001b[?25hCollecting html2text (from llama-hub)\n",
            "  Downloading html2text-2024.2.26.tar.gz (56 kB)\n",
            "\u001b[2K     \u001b[90m━━━━━━━━━━━━━━━━━━━━━━━━━━━━━━━━━━━━━━━━\u001b[0m \u001b[32m56.5/56.5 kB\u001b[0m \u001b[31m7.0 MB/s\u001b[0m eta \u001b[36m0:00:00\u001b[0m\n",
            "\u001b[?25h  Preparing metadata (setup.py) ... \u001b[?25l\u001b[?25hdone\n",
            "Requirement already satisfied: llama-index>=0.9.41 in /usr/local/lib/python3.10/dist-packages (from llama-hub) (0.10.40)\n",
            "Requirement already satisfied: psutil in /usr/local/lib/python3.10/dist-packages (from llama-hub) (5.9.5)\n",
            "Collecting pyaml<24.0.0,>=23.9.7 (from llama-hub)\n",
            "  Downloading pyaml-23.12.0-py3-none-any.whl (23 kB)\n",
            "Collecting retrying (from llama-hub)\n",
            "  Downloading retrying-1.3.4-py3-none-any.whl (11 kB)\n",
            "Requirement already satisfied: llama-index-agent-openai<0.3.0,>=0.1.4 in /usr/local/lib/python3.10/dist-packages (from llama-index>=0.9.41->llama-hub) (0.2.5)\n",
            "Requirement already satisfied: llama-index-cli<0.2.0,>=0.1.2 in /usr/local/lib/python3.10/dist-packages (from llama-index>=0.9.41->llama-hub) (0.1.12)\n",
            "Requirement already satisfied: llama-index-core<0.11.0,>=0.10.40 in /usr/local/lib/python3.10/dist-packages (from llama-index>=0.9.41->llama-hub) (0.10.40)\n",
            "Requirement already satisfied: llama-index-embeddings-openai<0.2.0,>=0.1.5 in /usr/local/lib/python3.10/dist-packages (from llama-index>=0.9.41->llama-hub) (0.1.10)\n",
            "Requirement already satisfied: llama-index-indices-managed-llama-cloud<0.2.0,>=0.1.2 in /usr/local/lib/python3.10/dist-packages (from llama-index>=0.9.41->llama-hub) (0.1.6)\n",
            "Requirement already satisfied: llama-index-legacy<0.10.0,>=0.9.48 in /usr/local/lib/python3.10/dist-packages (from llama-index>=0.9.41->llama-hub) (0.9.48)\n",
            "Requirement already satisfied: llama-index-llms-openai<0.2.0,>=0.1.13 in /usr/local/lib/python3.10/dist-packages (from llama-index>=0.9.41->llama-hub) (0.1.21)\n",
            "Requirement already satisfied: llama-index-multi-modal-llms-openai<0.2.0,>=0.1.3 in /usr/local/lib/python3.10/dist-packages (from llama-index>=0.9.41->llama-hub) (0.1.6)\n",
            "Requirement already satisfied: llama-index-program-openai<0.2.0,>=0.1.3 in /usr/local/lib/python3.10/dist-packages (from llama-index>=0.9.41->llama-hub) (0.1.6)\n",
            "Requirement already satisfied: llama-index-question-gen-openai<0.2.0,>=0.1.2 in /usr/local/lib/python3.10/dist-packages (from llama-index>=0.9.41->llama-hub) (0.1.3)\n",
            "Requirement already satisfied: llama-index-readers-file<0.2.0,>=0.1.4 in /usr/local/lib/python3.10/dist-packages (from llama-index>=0.9.41->llama-hub) (0.1.23)\n",
            "Requirement already satisfied: llama-index-readers-llama-parse<0.2.0,>=0.1.2 in /usr/local/lib/python3.10/dist-packages (from llama-index>=0.9.41->llama-hub) (0.1.4)\n",
            "Requirement already satisfied: PyYAML in /usr/local/lib/python3.10/dist-packages (from pyaml<24.0.0,>=23.9.7->llama-hub) (6.0.1)\n",
            "Requirement already satisfied: six>=1.7.0 in /usr/local/lib/python3.10/dist-packages (from retrying->llama-hub) (1.16.0)\n",
            "Requirement already satisfied: openai>=1.14.0 in /usr/local/lib/python3.10/dist-packages (from llama-index-agent-openai<0.3.0,>=0.1.4->llama-index>=0.9.41->llama-hub) (1.30.4)\n",
            "Requirement already satisfied: SQLAlchemy[asyncio]>=1.4.49 in /usr/local/lib/python3.10/dist-packages (from llama-index-core<0.11.0,>=0.10.40->llama-index>=0.9.41->llama-hub) (2.0.30)\n",
            "Requirement already satisfied: aiohttp<4.0.0,>=3.8.6 in /usr/local/lib/python3.10/dist-packages (from llama-index-core<0.11.0,>=0.10.40->llama-index>=0.9.41->llama-hub) (3.9.5)\n",
            "Requirement already satisfied: dataclasses-json in /usr/local/lib/python3.10/dist-packages (from llama-index-core<0.11.0,>=0.10.40->llama-index>=0.9.41->llama-hub) (0.6.6)\n",
            "Requirement already satisfied: deprecated>=1.2.9.3 in /usr/local/lib/python3.10/dist-packages (from llama-index-core<0.11.0,>=0.10.40->llama-index>=0.9.41->llama-hub) (1.2.14)\n",
            "Requirement already satisfied: dirtyjson<2.0.0,>=1.0.8 in /usr/local/lib/python3.10/dist-packages (from llama-index-core<0.11.0,>=0.10.40->llama-index>=0.9.41->llama-hub) (1.0.8)\n",
            "Requirement already satisfied: fsspec>=2023.5.0 in /usr/local/lib/python3.10/dist-packages (from llama-index-core<0.11.0,>=0.10.40->llama-index>=0.9.41->llama-hub) (2023.6.0)\n",
            "Requirement already satisfied: httpx in /usr/local/lib/python3.10/dist-packages (from llama-index-core<0.11.0,>=0.10.40->llama-index>=0.9.41->llama-hub) (0.27.0)\n",
            "Requirement already satisfied: llamaindex-py-client<0.2.0,>=0.1.18 in /usr/local/lib/python3.10/dist-packages (from llama-index-core<0.11.0,>=0.10.40->llama-index>=0.9.41->llama-hub) (0.1.19)\n",
            "Requirement already satisfied: nest-asyncio<2.0.0,>=1.5.8 in /usr/local/lib/python3.10/dist-packages (from llama-index-core<0.11.0,>=0.10.40->llama-index>=0.9.41->llama-hub) (1.6.0)\n",
            "Requirement already satisfied: networkx>=3.0 in /usr/local/lib/python3.10/dist-packages (from llama-index-core<0.11.0,>=0.10.40->llama-index>=0.9.41->llama-hub) (3.3)\n",
            "Requirement already satisfied: nltk<4.0.0,>=3.8.1 in /usr/local/lib/python3.10/dist-packages (from llama-index-core<0.11.0,>=0.10.40->llama-index>=0.9.41->llama-hub) (3.8.1)\n",
            "Requirement already satisfied: numpy in /usr/local/lib/python3.10/dist-packages (from llama-index-core<0.11.0,>=0.10.40->llama-index>=0.9.41->llama-hub) (1.25.2)\n",
            "Requirement already satisfied: pandas in /usr/local/lib/python3.10/dist-packages (from llama-index-core<0.11.0,>=0.10.40->llama-index>=0.9.41->llama-hub) (2.0.3)\n",
            "Requirement already satisfied: pillow>=9.0.0 in /usr/local/lib/python3.10/dist-packages (from llama-index-core<0.11.0,>=0.10.40->llama-index>=0.9.41->llama-hub) (9.4.0)\n",
            "Requirement already satisfied: requests>=2.31.0 in /usr/local/lib/python3.10/dist-packages (from llama-index-core<0.11.0,>=0.10.40->llama-index>=0.9.41->llama-hub) (2.31.0)\n",
            "Requirement already satisfied: tenacity<9.0.0,>=8.2.0 in /usr/local/lib/python3.10/dist-packages (from llama-index-core<0.11.0,>=0.10.40->llama-index>=0.9.41->llama-hub) (8.3.0)\n",
            "Requirement already satisfied: tiktoken>=0.3.3 in /usr/local/lib/python3.10/dist-packages (from llama-index-core<0.11.0,>=0.10.40->llama-index>=0.9.41->llama-hub) (0.7.0)\n",
            "Requirement already satisfied: tqdm<5.0.0,>=4.66.1 in /usr/local/lib/python3.10/dist-packages (from llama-index-core<0.11.0,>=0.10.40->llama-index>=0.9.41->llama-hub) (4.66.4)\n",
            "Requirement already satisfied: typing-extensions>=4.5.0 in /usr/local/lib/python3.10/dist-packages (from llama-index-core<0.11.0,>=0.10.40->llama-index>=0.9.41->llama-hub) (4.11.0)\n",
            "Requirement already satisfied: typing-inspect>=0.8.0 in /usr/local/lib/python3.10/dist-packages (from llama-index-core<0.11.0,>=0.10.40->llama-index>=0.9.41->llama-hub) (0.9.0)\n",
            "Requirement already satisfied: wrapt in /usr/local/lib/python3.10/dist-packages (from llama-index-core<0.11.0,>=0.10.40->llama-index>=0.9.41->llama-hub) (1.14.1)\n",
            "Requirement already satisfied: beautifulsoup4<5.0.0,>=4.12.3 in /usr/local/lib/python3.10/dist-packages (from llama-index-readers-file<0.2.0,>=0.1.4->llama-index>=0.9.41->llama-hub) (4.12.3)\n",
            "Requirement already satisfied: pypdf<5.0.0,>=4.0.1 in /usr/local/lib/python3.10/dist-packages (from llama-index-readers-file<0.2.0,>=0.1.4->llama-index>=0.9.41->llama-hub) (4.2.0)\n",
            "Requirement already satisfied: striprtf<0.0.27,>=0.0.26 in /usr/local/lib/python3.10/dist-packages (from llama-index-readers-file<0.2.0,>=0.1.4->llama-index>=0.9.41->llama-hub) (0.0.26)\n",
            "Requirement already satisfied: llama-parse<0.5.0,>=0.4.0 in /usr/local/lib/python3.10/dist-packages (from llama-index-readers-llama-parse<0.2.0,>=0.1.2->llama-index>=0.9.41->llama-hub) (0.4.4)\n",
            "Requirement already satisfied: aiosignal>=1.1.2 in /usr/local/lib/python3.10/dist-packages (from aiohttp<4.0.0,>=3.8.6->llama-index-core<0.11.0,>=0.10.40->llama-index>=0.9.41->llama-hub) (1.3.1)\n",
            "Requirement already satisfied: attrs>=17.3.0 in /usr/local/lib/python3.10/dist-packages (from aiohttp<4.0.0,>=3.8.6->llama-index-core<0.11.0,>=0.10.40->llama-index>=0.9.41->llama-hub) (23.2.0)\n",
            "Requirement already satisfied: frozenlist>=1.1.1 in /usr/local/lib/python3.10/dist-packages (from aiohttp<4.0.0,>=3.8.6->llama-index-core<0.11.0,>=0.10.40->llama-index>=0.9.41->llama-hub) (1.4.1)\n",
            "Requirement already satisfied: multidict<7.0,>=4.5 in /usr/local/lib/python3.10/dist-packages (from aiohttp<4.0.0,>=3.8.6->llama-index-core<0.11.0,>=0.10.40->llama-index>=0.9.41->llama-hub) (6.0.5)\n",
            "Requirement already satisfied: yarl<2.0,>=1.0 in /usr/local/lib/python3.10/dist-packages (from aiohttp<4.0.0,>=3.8.6->llama-index-core<0.11.0,>=0.10.40->llama-index>=0.9.41->llama-hub) (1.9.4)\n",
            "Requirement already satisfied: async-timeout<5.0,>=4.0 in /usr/local/lib/python3.10/dist-packages (from aiohttp<4.0.0,>=3.8.6->llama-index-core<0.11.0,>=0.10.40->llama-index>=0.9.41->llama-hub) (4.0.3)\n",
            "Requirement already satisfied: soupsieve>1.2 in /usr/local/lib/python3.10/dist-packages (from beautifulsoup4<5.0.0,>=4.12.3->llama-index-readers-file<0.2.0,>=0.1.4->llama-index>=0.9.41->llama-hub) (2.5)\n",
            "Requirement already satisfied: pydantic>=1.10 in /usr/local/lib/python3.10/dist-packages (from llamaindex-py-client<0.2.0,>=0.1.18->llama-index-core<0.11.0,>=0.10.40->llama-index>=0.9.41->llama-hub) (2.7.1)\n",
            "Requirement already satisfied: anyio in /usr/local/lib/python3.10/dist-packages (from httpx->llama-index-core<0.11.0,>=0.10.40->llama-index>=0.9.41->llama-hub) (3.7.1)\n",
            "Requirement already satisfied: certifi in /usr/local/lib/python3.10/dist-packages (from httpx->llama-index-core<0.11.0,>=0.10.40->llama-index>=0.9.41->llama-hub) (2024.2.2)\n",
            "Requirement already satisfied: httpcore==1.* in /usr/local/lib/python3.10/dist-packages (from httpx->llama-index-core<0.11.0,>=0.10.40->llama-index>=0.9.41->llama-hub) (1.0.5)\n",
            "Requirement already satisfied: idna in /usr/local/lib/python3.10/dist-packages (from httpx->llama-index-core<0.11.0,>=0.10.40->llama-index>=0.9.41->llama-hub) (3.7)\n",
            "Requirement already satisfied: sniffio in /usr/local/lib/python3.10/dist-packages (from httpx->llama-index-core<0.11.0,>=0.10.40->llama-index>=0.9.41->llama-hub) (1.3.1)\n",
            "Requirement already satisfied: h11<0.15,>=0.13 in /usr/local/lib/python3.10/dist-packages (from httpcore==1.*->httpx->llama-index-core<0.11.0,>=0.10.40->llama-index>=0.9.41->llama-hub) (0.14.0)\n",
            "Requirement already satisfied: click in /usr/local/lib/python3.10/dist-packages (from nltk<4.0.0,>=3.8.1->llama-index-core<0.11.0,>=0.10.40->llama-index>=0.9.41->llama-hub) (8.1.7)\n",
            "Requirement already satisfied: joblib in /usr/local/lib/python3.10/dist-packages (from nltk<4.0.0,>=3.8.1->llama-index-core<0.11.0,>=0.10.40->llama-index>=0.9.41->llama-hub) (1.4.2)\n",
            "Requirement already satisfied: regex>=2021.8.3 in /usr/local/lib/python3.10/dist-packages (from nltk<4.0.0,>=3.8.1->llama-index-core<0.11.0,>=0.10.40->llama-index>=0.9.41->llama-hub) (2024.5.15)\n",
            "Requirement already satisfied: distro<2,>=1.7.0 in /usr/lib/python3/dist-packages (from openai>=1.14.0->llama-index-agent-openai<0.3.0,>=0.1.4->llama-index>=0.9.41->llama-hub) (1.7.0)\n",
            "Requirement already satisfied: charset-normalizer<4,>=2 in /usr/local/lib/python3.10/dist-packages (from requests>=2.31.0->llama-index-core<0.11.0,>=0.10.40->llama-index>=0.9.41->llama-hub) (3.3.2)\n",
            "Requirement already satisfied: urllib3<3,>=1.21.1 in /usr/local/lib/python3.10/dist-packages (from requests>=2.31.0->llama-index-core<0.11.0,>=0.10.40->llama-index>=0.9.41->llama-hub) (2.0.7)\n",
            "Requirement already satisfied: greenlet!=0.4.17 in /usr/local/lib/python3.10/dist-packages (from SQLAlchemy[asyncio]>=1.4.49->llama-index-core<0.11.0,>=0.10.40->llama-index>=0.9.41->llama-hub) (3.0.3)\n",
            "Requirement already satisfied: mypy-extensions>=0.3.0 in /usr/local/lib/python3.10/dist-packages (from typing-inspect>=0.8.0->llama-index-core<0.11.0,>=0.10.40->llama-index>=0.9.41->llama-hub) (1.0.0)\n",
            "Requirement already satisfied: marshmallow<4.0.0,>=3.18.0 in /usr/local/lib/python3.10/dist-packages (from dataclasses-json->llama-index-core<0.11.0,>=0.10.40->llama-index>=0.9.41->llama-hub) (3.21.2)\n",
            "Requirement already satisfied: python-dateutil>=2.8.2 in /usr/local/lib/python3.10/dist-packages (from pandas->llama-index-core<0.11.0,>=0.10.40->llama-index>=0.9.41->llama-hub) (2.8.2)\n",
            "Requirement already satisfied: pytz>=2020.1 in /usr/local/lib/python3.10/dist-packages (from pandas->llama-index-core<0.11.0,>=0.10.40->llama-index>=0.9.41->llama-hub) (2023.4)\n",
            "Requirement already satisfied: tzdata>=2022.1 in /usr/local/lib/python3.10/dist-packages (from pandas->llama-index-core<0.11.0,>=0.10.40->llama-index>=0.9.41->llama-hub) (2024.1)\n",
            "Requirement already satisfied: exceptiongroup in /usr/local/lib/python3.10/dist-packages (from anyio->httpx->llama-index-core<0.11.0,>=0.10.40->llama-index>=0.9.41->llama-hub) (1.2.1)\n",
            "Requirement already satisfied: packaging>=17.0 in /usr/local/lib/python3.10/dist-packages (from marshmallow<4.0.0,>=3.18.0->dataclasses-json->llama-index-core<0.11.0,>=0.10.40->llama-index>=0.9.41->llama-hub) (24.0)\n",
            "Requirement already satisfied: annotated-types>=0.4.0 in /usr/local/lib/python3.10/dist-packages (from pydantic>=1.10->llamaindex-py-client<0.2.0,>=0.1.18->llama-index-core<0.11.0,>=0.10.40->llama-index>=0.9.41->llama-hub) (0.7.0)\n",
            "Requirement already satisfied: pydantic-core==2.18.2 in /usr/local/lib/python3.10/dist-packages (from pydantic>=1.10->llamaindex-py-client<0.2.0,>=0.1.18->llama-index-core<0.11.0,>=0.10.40->llama-index>=0.9.41->llama-hub) (2.18.2)\n",
            "Building wheels for collected packages: html2text\n",
            "  Building wheel for html2text (setup.py) ... \u001b[?25l\u001b[?25hdone\n",
            "  Created wheel for html2text: filename=html2text-2024.2.26-py3-none-any.whl size=33111 sha256=b94b52847cffe223d835dd8b7be0da28d5759f6ca4849e6c97b4fe6a2cb26939\n",
            "  Stored in directory: /root/.cache/pip/wheels/f3/96/6d/a7eba8f80d31cbd188a2787b81514d82fc5ae6943c44777659\n",
            "Successfully built html2text\n",
            "Installing collected packages: retrying, pyaml, html2text, llama-hub\n",
            "Successfully installed html2text-2024.2.26 llama-hub-0.0.79.post1 pyaml-23.12.0 retrying-1.3.4\n",
            "Requirement already satisfied: openai in /usr/local/lib/python3.10/dist-packages (1.30.4)\n",
            "Requirement already satisfied: anyio<5,>=3.5.0 in /usr/local/lib/python3.10/dist-packages (from openai) (3.7.1)\n",
            "Requirement already satisfied: distro<2,>=1.7.0 in /usr/lib/python3/dist-packages (from openai) (1.7.0)\n",
            "Requirement already satisfied: httpx<1,>=0.23.0 in /usr/local/lib/python3.10/dist-packages (from openai) (0.27.0)\n",
            "Requirement already satisfied: pydantic<3,>=1.9.0 in /usr/local/lib/python3.10/dist-packages (from openai) (2.7.1)\n",
            "Requirement already satisfied: sniffio in /usr/local/lib/python3.10/dist-packages (from openai) (1.3.1)\n",
            "Requirement already satisfied: tqdm>4 in /usr/local/lib/python3.10/dist-packages (from openai) (4.66.4)\n",
            "Requirement already satisfied: typing-extensions<5,>=4.7 in /usr/local/lib/python3.10/dist-packages (from openai) (4.11.0)\n",
            "Requirement already satisfied: idna>=2.8 in /usr/local/lib/python3.10/dist-packages (from anyio<5,>=3.5.0->openai) (3.7)\n",
            "Requirement already satisfied: exceptiongroup in /usr/local/lib/python3.10/dist-packages (from anyio<5,>=3.5.0->openai) (1.2.1)\n",
            "Requirement already satisfied: certifi in /usr/local/lib/python3.10/dist-packages (from httpx<1,>=0.23.0->openai) (2024.2.2)\n",
            "Requirement already satisfied: httpcore==1.* in /usr/local/lib/python3.10/dist-packages (from httpx<1,>=0.23.0->openai) (1.0.5)\n",
            "Requirement already satisfied: h11<0.15,>=0.13 in /usr/local/lib/python3.10/dist-packages (from httpcore==1.*->httpx<1,>=0.23.0->openai) (0.14.0)\n",
            "Requirement already satisfied: annotated-types>=0.4.0 in /usr/local/lib/python3.10/dist-packages (from pydantic<3,>=1.9.0->openai) (0.7.0)\n",
            "Requirement already satisfied: pydantic-core==2.18.2 in /usr/local/lib/python3.10/dist-packages (from pydantic<3,>=1.9.0->openai) (2.18.2)\n"
          ]
        }
      ],
      "source": [
        "# # installing the lib\n",
        "!pip install llama-index\n",
        "!pip install llama-hub\n",
        "!pip install openai"
      ]
    },
    {
      "cell_type": "code",
      "source": [
        "# setting up the openai api key in os envoirment\n",
        "import os\n",
        "import openai\n",
        "os.environ[\"OPENAI_API_KEY\"] = \"sk-xxxxxxxxxxxxx\"\n",
        "openai.api_key = \"sk-xxxxxxxxxxx\""
      ],
      "metadata": {
        "id": "0WNevldbP2j6"
      },
      "execution_count": 4,
      "outputs": []
    },
    {
      "cell_type": "code",
      "source": [
        "import os\n",
        "\n",
        "os.makedirs('data1', exist_ok=True)"
      ],
      "metadata": {
        "id": "KAiiGKjTS-K2"
      },
      "execution_count": 3,
      "outputs": []
    },
    {
      "cell_type": "code",
      "source": [
        "from llama_index.core import VectorStoreIndex,SimpleDirectoryReader"
      ],
      "metadata": {
        "id": "YcGtzX0fP2m1"
      },
      "execution_count": 5,
      "outputs": []
    },
    {
      "cell_type": "code",
      "source": [
        "documents = SimpleDirectoryReader(r\"/content/data1\").load_data()"
      ],
      "metadata": {
        "id": "8QVIQRMUP2qL"
      },
      "execution_count": 6,
      "outputs": []
    },
    {
      "cell_type": "code",
      "source": [
        "documents"
      ],
      "metadata": {
        "colab": {
          "base_uri": "https://localhost:8080/"
        },
        "id": "0pWlZ2yCP2tE",
        "outputId": "53a43b2a-b82a-4db5-cd41-bcd8ca2d9e29"
      },
      "execution_count": 7,
      "outputs": [
        {
          "output_type": "execute_result",
          "data": {
            "text/plain": [
              "[Document(id_='45f75533-4504-4ca1-ad53-013e6b7125ba', embedding=None, metadata={'file_path': '/content/data1/resume1.txt', 'file_name': 'resume1.txt', 'file_type': 'text/plain', 'file_size': 1946, 'creation_date': '2024-05-30', 'last_modified_date': '2024-05-30'}, excluded_embed_metadata_keys=['file_name', 'file_type', 'file_size', 'creation_date', 'last_modified_date', 'last_accessed_date'], excluded_llm_metadata_keys=['file_name', 'file_type', 'file_size', 'creation_date', 'last_modified_date', 'last_accessed_date'], relationships={}, text='Name: Alex Johnson\\r\\nEmail: alex.johnson@email.com\\r\\nPhone: (555) 123-4567\\r\\nLinkedIn: linkedin.com/in/alexjohnson\\r\\nGitHub: github.com/alexjohnson\\r\\n\\r\\nObjective\\r\\n--------\\r\\nRecent graduate with a strong foundation in data science and machine learning, seeking an entry-level position to leverage analytical skills and knowledge of algorithms to contribute to innovative projects.\\r\\n\\r\\nEducation\\r\\n---------\\r\\nBachelor of Science in Computer Science\\r\\nUniversity of XYZ, Anytown, USA\\r\\nGraduation: May 2023\\r\\n- GPA: 3.8/4.0\\r\\n\\r\\nSkills\\r\\n------\\r\\n- Programming Languages: Python, R, SQL, Java\\r\\n- Machine Learning: Scikit-Learn, TensorFlow, Keras\\r\\n- Data Analysis: Pandas, NumPy, Matplotlib, Seaborn\\r\\n- Databases: MySQL, PostgreSQL\\r\\n- Tools: Jupyter Notebook, Git, Tableau\\r\\n\\r\\nProjects\\r\\n--------\\r\\nCustomer Segmentation using K-Means Clustering\\r\\n- Analyzed customer data and applied K-Means clustering to identify distinct customer segments.\\r\\n- Used Python and Scikit-Learn for data preprocessing and model building.\\r\\n- Visualized clusters using Matplotlib and Seaborn.\\r\\n\\r\\nPredictive Analytics on Housing Prices\\r\\n- Developed a regression model to predict housing prices based on various features.\\r\\n- Employed data cleaning techniques and feature engineering.\\r\\n- Used Linear Regression, Decision Trees, and Random Forests to compare model performance.\\r\\n\\r\\nSentiment Analysis of Social Media Data\\r\\n- Collected and analyzed social media posts to determine public sentiment on various topics.\\r\\n- Utilized Natural Language Processing (NLP) techniques with NLTK and TextBlob.\\r\\n- Presented findings using Tableau for interactive data visualization.\\r\\n\\r\\nCertifications\\r\\n--------------\\r\\n- IBM Data Science Professional Certificate - Coursera\\r\\n- Deep Learning Specialization - Coursera\\r\\n\\r\\nExtracurricular Activities\\r\\n--------------------------\\r\\n- Member of the Data Science Club at University of XYZ\\r\\n- Volunteer tutor for underprivileged high school students in STEM subjects\\r\\n', start_char_idx=None, end_char_idx=None, text_template='{metadata_str}\\n\\n{content}', metadata_template='{key}: {value}', metadata_seperator='\\n'),\n",
              " Document(id_='8dda8150-84aa-4a83-a64a-1af102147baf', embedding=None, metadata={'file_path': '/content/data1/resume2.txt', 'file_name': 'resume2.txt', 'file_type': 'text/plain', 'file_size': 2762, 'creation_date': '2024-05-30', 'last_modified_date': '2024-05-30'}, excluded_embed_metadata_keys=['file_name', 'file_type', 'file_size', 'creation_date', 'last_modified_date', 'last_accessed_date'], excluded_llm_metadata_keys=['file_name', 'file_type', 'file_size', 'creation_date', 'last_modified_date', 'last_accessed_date'], relationships={}, text='Name: Jamie Lee\\r\\nEmail: jamie.lee@email.com\\r\\nPhone: (555) 987-6543\\r\\nLinkedIn: linkedin.com/in/jamielee\\r\\nGitHub: github.com/jamielee\\r\\n\\r\\nObjective\\r\\n--------\\r\\nExperienced Data Scientist with 3 years of hands-on experience in data analysis, machine learning, and big data technologies. Seeking to apply analytical skills and machine learning expertise to solve complex business problems.\\r\\n\\r\\nProfessional Experience\\r\\n-----------------------\\r\\nData Scientist\\r\\nABC Tech Solutions, Anytown, USA\\r\\nJune 2020 – Present\\r\\n- Developed and deployed machine learning models to improve customer retention by 15%.\\r\\n- Conducted data analysis and visualization to identify key performance indicators (KPIs) for marketing campaigns.\\r\\n- Implemented predictive models using Python, Scikit-Learn, and TensorFlow.\\r\\n- Worked with cross-functional teams to translate business requirements into technical solutions.\\r\\n\\r\\nJunior Data Scientist\\r\\nData Insights Inc., Anytown, USA\\r\\nJune 2018 – May 2020\\r\\n- Assisted in the development of recommendation systems to enhance user experience.\\r\\n- Performed data wrangling, cleaning, and exploratory data analysis (EDA) on large datasets.\\r\\n- Built and validated machine learning models for classification and regression tasks.\\r\\n- Automated data processing workflows using Python and SQL.\\r\\n\\r\\nEducation\\r\\n---------\\r\\nBachelor of Science in Statistics\\r\\nUniversity of XYZ, Anytown, USA\\r\\nGraduation: May 2018\\r\\n- GPA: 3.7/4.0\\r\\n\\r\\nSkills\\r\\n------\\r\\n- Programming Languages: Python, R, SQL, Java\\r\\n- Machine Learning: Scikit-Learn, TensorFlow, Keras, PyTorch\\r\\n- Big Data Technologies: Hadoop, Spark\\r\\n- Data Visualization: Tableau, Power BI, Matplotlib, Seaborn\\r\\n- Databases: MySQL, PostgreSQL, MongoDB\\r\\n\\r\\nProjects\\r\\n--------\\r\\nCustomer Churn Prediction\\r\\n- Developed a model to predict customer churn using logistic regression and random forests.\\r\\n- Improved model accuracy by 20% through feature engineering and hyperparameter tuning.\\r\\n- Deployed the model as a REST API using Flask.\\r\\n\\r\\nSales Forecasting using Time Series Analysis\\r\\n- Implemented ARIMA and LSTM models to forecast sales data.\\r\\n- Conducted seasonal decomposition of time series data.\\r\\n- Visualized results and provided actionable insights to the sales team.\\r\\n\\r\\nReal-Time Sentiment Analysis Dashboard\\r\\n- Built a real-time dashboard to monitor sentiment analysis of customer feedback.\\r\\n- Used Apache Kafka for data streaming and Spark for real-time data processing.\\r\\n- Deployed the dashboard using Dash and Plotly.\\r\\n\\r\\nCertifications\\r\\n--------------\\r\\n- Certified Data Scientist - DataCamp\\r\\n- Machine Learning Engineer Nanodegree - Udacity\\r\\n\\r\\nExtracurricular Activities\\r\\n--------------------------\\r\\n- Speaker at local data science meetups\\r\\n- Mentor for aspiring data scientists through online platforms\\r\\n', start_char_idx=None, end_char_idx=None, text_template='{metadata_str}\\n\\n{content}', metadata_template='{key}: {value}', metadata_seperator='\\n'),\n",
              " Document(id_='d68aec61-cfee-4c9f-b66b-91f90cf4f58a', embedding=None, metadata={'file_path': '/content/data1/resume3.txt', 'file_name': 'resume3.txt', 'file_type': 'text/plain', 'file_size': 2929, 'creation_date': '2024-05-30', 'last_modified_date': '2024-05-30'}, excluded_embed_metadata_keys=['file_name', 'file_type', 'file_size', 'creation_date', 'last_modified_date', 'last_accessed_date'], excluded_llm_metadata_keys=['file_name', 'file_type', 'file_size', 'creation_date', 'last_modified_date', 'last_accessed_date'], relationships={}, text=\"Name: Sam Rivera\\r\\nEmail: sam.rivera@email.com\\r\\nPhone: (555) 321-4321\\r\\nLinkedIn: linkedin.com/in/samrivera\\r\\nGitHub: github.com/samrivera\\r\\n\\r\\nObjective\\r\\n--------\\r\\nPassionate Machine Learning Engineer with a focus on Generative AI, possessing practical experience in developing and deploying generative models. Seeking opportunities to contribute to innovative projects leveraging GenAI technologies.\\r\\n\\r\\nProfessional Experience\\r\\n-----------------------\\r\\nMachine Learning Engineer\\r\\nXYZ Innovations, Anytown, USA\\r\\nMarch 2022 – Present\\r\\n- Designed and implemented generative models for synthetic data generation to improve training data diversity.\\r\\n- Worked on text generation projects using GPT-3 and fine-tuned models for specific applications.\\r\\n- Developed image generation models using GANs for creative and commercial purposes.\\r\\n\\r\\nResearch Assistant\\r\\nUniversity of ABC, Anytown, USA\\r\\nJune 2020 – February 2022\\r\\n- Conducted research on generative adversarial networks (GANs) and their applications in image synthesis.\\r\\n- Published a paper on the use of GANs in generating realistic medical images to aid in training diagnostic models.\\r\\n- Assisted in the development of a course module on generative AI techniques.\\r\\n\\r\\nEducation\\r\\n---------\\r\\nMaster of Science in Computer Science\\r\\nUniversity of ABC, Anytown, USA\\r\\nGraduation: May 2022\\r\\n- GPA: 3.9/4.0\\r\\n\\r\\nBachelor of Science in Computer Science\\r\\nUniversity of XYZ, Anytown, USA\\r\\nGraduation: May 2020\\r\\n- GPA: 3.8/4.0\\r\\n\\r\\nSkills\\r\\n------\\r\\n- Programming Languages: Python, R, SQL, Java\\r\\n- Machine Learning: TensorFlow, Keras, PyTorch, Scikit-Learn\\r\\n- Generative Models: GANs, VAEs, Transformers (GPT-3)\\r\\n- Data Analysis: Pandas, NumPy, Matplotlib, Seaborn\\r\\n- Tools: Jupyter Notebook, Git, Docker\\r\\n\\r\\nProjects\\r\\n--------\\r\\nSynthetic Data Generation for Enhanced Model Training\\r\\n- Developed a GAN-based model to generate synthetic data for enhancing the training dataset.\\r\\n- Improved model performance by 25% by incorporating synthetic data in the training process.\\r\\n- Utilized TensorFlow and Keras for model development and training.\\r\\n\\r\\nText Generation using GPT-3\\r\\n- Implemented a text generation application using OpenAI's GPT-3 API.\\r\\n- Fine-tuned the model on domain-specific text data to improve relevance and coherence.\\r\\n- Deployed the application as a web service using Flask.\\r\\n\\r\\nImage Synthesis with GANs\\r\\n- Created a GAN model to generate high-resolution images for commercial use.\\r\\n- Experimented with different architectures, including DCGAN and StyleGAN, to improve image quality.\\r\\n- Published findings in a peer-reviewed journal and presented at a local AI conference.\\r\\n\\r\\nCertifications\\r\\n--------------\\r\\n- Deep Learning Specialization - Coursera\\r\\n- Generative Adversarial Networks (GANs) Specialization - Coursera\\r\\n\\r\\nExtracurricular Activities\\r\\n--------------------------\\r\\n- Organizer of local AI and machine learning meetups\\r\\n- Contributor to open-source AI projects on GitHub\\r\\n\", start_char_idx=None, end_char_idx=None, text_template='{metadata_str}\\n\\n{content}', metadata_template='{key}: {value}', metadata_seperator='\\n')]"
            ]
          },
          "metadata": {},
          "execution_count": 7
        }
      ]
    },
    {
      "cell_type": "code",
      "source": [
        "index = VectorStoreIndex.from_documents(documents,show_progress=True)"
      ],
      "metadata": {
        "colab": {
          "base_uri": "https://localhost:8080/",
          "height": 81,
          "referenced_widgets": [
            "368aa5fde4e042bfa44d78d6ce144c9e",
            "c05004d0f9cf4178ae74ca17e5e99980",
            "2248ab362ef94958b38c13fa31d1f183",
            "cff836f504ee490ba2f9f657d51759ae",
            "6fa7331e6ec8424991efc8e4ad974e8c",
            "a1130b7a417042dda4bf1f50ee912715",
            "b566b823a4e1468ca249124bf05852b2",
            "2fecf2cc53974150bfc403183db9d5af",
            "43231dd3f37240548f9a0f7c60169fe1",
            "86d405ab072044a1ae061641024e5c05",
            "fe026e51d8084b63b154b6ee5b869cdd",
            "d571fd13f9ec4889af6064933c0e2b25",
            "766a0eb299144271a46d6300e7bb3762",
            "43677fac9584496d884e19ce51439d5d",
            "4a8be10ca3c44f3396e15c6a437dbb3c",
            "9da48da9f7cd4212bb5fd49853e21baa",
            "5bc8d963d45744629a05c325a7a2e37d",
            "bfce5d2a7faa43439cbbeb0e35fd43b6",
            "69d89596b36d460080781a52230454ee",
            "b0dcc99da7b74993b1b09c2ef148580b",
            "4e88e7a127194f098c27c2f9bd7b1018",
            "8ac38f1778bb451d82055e8fff071b00"
          ]
        },
        "id": "dXCjuqlIP2wv",
        "outputId": "36d9ac80-c8f4-48d7-ad23-5e767445e6e8"
      },
      "execution_count": 8,
      "outputs": [
        {
          "output_type": "display_data",
          "data": {
            "text/plain": [
              "Parsing nodes:   0%|          | 0/3 [00:00<?, ?it/s]"
            ],
            "application/vnd.jupyter.widget-view+json": {
              "version_major": 2,
              "version_minor": 0,
              "model_id": "368aa5fde4e042bfa44d78d6ce144c9e"
            }
          },
          "metadata": {}
        },
        {
          "output_type": "display_data",
          "data": {
            "text/plain": [
              "Generating embeddings:   0%|          | 0/3 [00:00<?, ?it/s]"
            ],
            "application/vnd.jupyter.widget-view+json": {
              "version_major": 2,
              "version_minor": 0,
              "model_id": "d571fd13f9ec4889af6064933c0e2b25"
            }
          },
          "metadata": {}
        }
      ]
    },
    {
      "cell_type": "code",
      "source": [
        "index"
      ],
      "metadata": {
        "colab": {
          "base_uri": "https://localhost:8080/"
        },
        "id": "gjiAzXXWV3oY",
        "outputId": "7c414731-e08f-490a-afa8-f8c7e4bf5391"
      },
      "execution_count": 9,
      "outputs": [
        {
          "output_type": "execute_result",
          "data": {
            "text/plain": [
              "<llama_index.core.indices.vector_store.base.VectorStoreIndex at 0x7e016c4952d0>"
            ]
          },
          "metadata": {},
          "execution_count": 9
        }
      ]
    },
    {
      "cell_type": "code",
      "source": [
        "query_engine = index.as_query_engine()"
      ],
      "metadata": {
        "id": "-F8slU4oV3zi"
      },
      "execution_count": 10,
      "outputs": []
    },
    {
      "cell_type": "code",
      "source": [
        "response = query_engine.query(\"What are the names of the candidates?\")"
      ],
      "metadata": {
        "id": "U0hyJ7K0V379"
      },
      "execution_count": 11,
      "outputs": []
    },
    {
      "cell_type": "code",
      "source": [
        "response"
      ],
      "metadata": {
        "colab": {
          "base_uri": "https://localhost:8080/"
        },
        "id": "qJMZSCD1WHuw",
        "outputId": "b51f7fce-65ff-44ab-f808-9a42c2c942cb"
      },
      "execution_count": 12,
      "outputs": [
        {
          "output_type": "execute_result",
          "data": {
            "text/plain": [
              "Response(response='Alex Johnson and Jamie Lee', source_nodes=[NodeWithScore(node=TextNode(id_='1925cb87-5987-49a4-abda-fab8d4a934b3', embedding=None, metadata={'file_path': '/content/data1/resume1.txt', 'file_name': 'resume1.txt', 'file_type': 'text/plain', 'file_size': 1946, 'creation_date': '2024-05-30', 'last_modified_date': '2024-05-30'}, excluded_embed_metadata_keys=['file_name', 'file_type', 'file_size', 'creation_date', 'last_modified_date', 'last_accessed_date'], excluded_llm_metadata_keys=['file_name', 'file_type', 'file_size', 'creation_date', 'last_modified_date', 'last_accessed_date'], relationships={<NodeRelationship.SOURCE: '1'>: RelatedNodeInfo(node_id='45f75533-4504-4ca1-ad53-013e6b7125ba', node_type=<ObjectType.DOCUMENT: '4'>, metadata={'file_path': '/content/data1/resume1.txt', 'file_name': 'resume1.txt', 'file_type': 'text/plain', 'file_size': 1946, 'creation_date': '2024-05-30', 'last_modified_date': '2024-05-30'}, hash='cb8278d7572dda0fac6d84805e617368f7788c9056cf2db07ea1b1d21f9abeb8')}, text='Name: Alex Johnson\\r\\nEmail: alex.johnson@email.com\\r\\nPhone: (555) 123-4567\\r\\nLinkedIn: linkedin.com/in/alexjohnson\\r\\nGitHub: github.com/alexjohnson\\r\\n\\r\\nObjective\\r\\n--------\\r\\nRecent graduate with a strong foundation in data science and machine learning, seeking an entry-level position to leverage analytical skills and knowledge of algorithms to contribute to innovative projects.\\r\\n\\r\\nEducation\\r\\n---------\\r\\nBachelor of Science in Computer Science\\r\\nUniversity of XYZ, Anytown, USA\\r\\nGraduation: May 2023\\r\\n- GPA: 3.8/4.0\\r\\n\\r\\nSkills\\r\\n------\\r\\n- Programming Languages: Python, R, SQL, Java\\r\\n- Machine Learning: Scikit-Learn, TensorFlow, Keras\\r\\n- Data Analysis: Pandas, NumPy, Matplotlib, Seaborn\\r\\n- Databases: MySQL, PostgreSQL\\r\\n- Tools: Jupyter Notebook, Git, Tableau\\r\\n\\r\\nProjects\\r\\n--------\\r\\nCustomer Segmentation using K-Means Clustering\\r\\n- Analyzed customer data and applied K-Means clustering to identify distinct customer segments.\\r\\n- Used Python and Scikit-Learn for data preprocessing and model building.\\r\\n- Visualized clusters using Matplotlib and Seaborn.\\r\\n\\r\\nPredictive Analytics on Housing Prices\\r\\n- Developed a regression model to predict housing prices based on various features.\\r\\n- Employed data cleaning techniques and feature engineering.\\r\\n- Used Linear Regression, Decision Trees, and Random Forests to compare model performance.\\r\\n\\r\\nSentiment Analysis of Social Media Data\\r\\n- Collected and analyzed social media posts to determine public sentiment on various topics.\\r\\n- Utilized Natural Language Processing (NLP) techniques with NLTK and TextBlob.\\r\\n- Presented findings using Tableau for interactive data visualization.\\r\\n\\r\\nCertifications\\r\\n--------------\\r\\n- IBM Data Science Professional Certificate - Coursera\\r\\n- Deep Learning Specialization - Coursera\\r\\n\\r\\nExtracurricular Activities\\r\\n--------------------------\\r\\n- Member of the Data Science Club at University of XYZ\\r\\n- Volunteer tutor for underprivileged high school students in STEM subjects', start_char_idx=0, end_char_idx=1944, text_template='{metadata_str}\\n\\n{content}', metadata_template='{key}: {value}', metadata_seperator='\\n'), score=0.7129560757602502), NodeWithScore(node=TextNode(id_='6208d52e-4abf-4fb1-bfd3-320b3b4b2b5a', embedding=None, metadata={'file_path': '/content/data1/resume2.txt', 'file_name': 'resume2.txt', 'file_type': 'text/plain', 'file_size': 2762, 'creation_date': '2024-05-30', 'last_modified_date': '2024-05-30'}, excluded_embed_metadata_keys=['file_name', 'file_type', 'file_size', 'creation_date', 'last_modified_date', 'last_accessed_date'], excluded_llm_metadata_keys=['file_name', 'file_type', 'file_size', 'creation_date', 'last_modified_date', 'last_accessed_date'], relationships={<NodeRelationship.SOURCE: '1'>: RelatedNodeInfo(node_id='8dda8150-84aa-4a83-a64a-1af102147baf', node_type=<ObjectType.DOCUMENT: '4'>, metadata={'file_path': '/content/data1/resume2.txt', 'file_name': 'resume2.txt', 'file_type': 'text/plain', 'file_size': 2762, 'creation_date': '2024-05-30', 'last_modified_date': '2024-05-30'}, hash='879a36dbbffbbac7fbb51ec39d822923a9560c1d3f657d3617515250d2de8111')}, text='Name: Jamie Lee\\r\\nEmail: jamie.lee@email.com\\r\\nPhone: (555) 987-6543\\r\\nLinkedIn: linkedin.com/in/jamielee\\r\\nGitHub: github.com/jamielee\\r\\n\\r\\nObjective\\r\\n--------\\r\\nExperienced Data Scientist with 3 years of hands-on experience in data analysis, machine learning, and big data technologies. Seeking to apply analytical skills and machine learning expertise to solve complex business problems.\\r\\n\\r\\nProfessional Experience\\r\\n-----------------------\\r\\nData Scientist\\r\\nABC Tech Solutions, Anytown, USA\\r\\nJune 2020 – Present\\r\\n- Developed and deployed machine learning models to improve customer retention by 15%.\\r\\n- Conducted data analysis and visualization to identify key performance indicators (KPIs) for marketing campaigns.\\r\\n- Implemented predictive models using Python, Scikit-Learn, and TensorFlow.\\r\\n- Worked with cross-functional teams to translate business requirements into technical solutions.\\r\\n\\r\\nJunior Data Scientist\\r\\nData Insights Inc., Anytown, USA\\r\\nJune 2018 – May 2020\\r\\n- Assisted in the development of recommendation systems to enhance user experience.\\r\\n- Performed data wrangling, cleaning, and exploratory data analysis (EDA) on large datasets.\\r\\n- Built and validated machine learning models for classification and regression tasks.\\r\\n- Automated data processing workflows using Python and SQL.\\r\\n\\r\\nEducation\\r\\n---------\\r\\nBachelor of Science in Statistics\\r\\nUniversity of XYZ, Anytown, USA\\r\\nGraduation: May 2018\\r\\n- GPA: 3.7/4.0\\r\\n\\r\\nSkills\\r\\n------\\r\\n- Programming Languages: Python, R, SQL, Java\\r\\n- Machine Learning: Scikit-Learn, TensorFlow, Keras, PyTorch\\r\\n- Big Data Technologies: Hadoop, Spark\\r\\n- Data Visualization: Tableau, Power BI, Matplotlib, Seaborn\\r\\n- Databases: MySQL, PostgreSQL, MongoDB\\r\\n\\r\\nProjects\\r\\n--------\\r\\nCustomer Churn Prediction\\r\\n- Developed a model to predict customer churn using logistic regression and random forests.\\r\\n- Improved model accuracy by 20% through feature engineering and hyperparameter tuning.\\r\\n- Deployed the model as a REST API using Flask.\\r\\n\\r\\nSales Forecasting using Time Series Analysis\\r\\n- Implemented ARIMA and LSTM models to forecast sales data.\\r\\n- Conducted seasonal decomposition of time series data.\\r\\n- Visualized results and provided actionable insights to the sales team.\\r\\n\\r\\nReal-Time Sentiment Analysis Dashboard\\r\\n- Built a real-time dashboard to monitor sentiment analysis of customer feedback.\\r\\n- Used Apache Kafka for data streaming and Spark for real-time data processing.\\r\\n- Deployed the dashboard using Dash and Plotly.\\r\\n\\r\\nCertifications\\r\\n--------------\\r\\n- Certified Data Scientist - DataCamp\\r\\n- Machine Learning Engineer Nanodegree - Udacity\\r\\n\\r\\nExtracurricular Activities\\r\\n--------------------------\\r\\n- Speaker at local data science meetups\\r\\n- Mentor for aspiring data scientists through online platforms', start_char_idx=0, end_char_idx=2756, text_template='{metadata_str}\\n\\n{content}', metadata_template='{key}: {value}', metadata_seperator='\\n'), score=0.7052782655972182)], metadata={'1925cb87-5987-49a4-abda-fab8d4a934b3': {'file_path': '/content/data1/resume1.txt', 'file_name': 'resume1.txt', 'file_type': 'text/plain', 'file_size': 1946, 'creation_date': '2024-05-30', 'last_modified_date': '2024-05-30'}, '6208d52e-4abf-4fb1-bfd3-320b3b4b2b5a': {'file_path': '/content/data1/resume2.txt', 'file_name': 'resume2.txt', 'file_type': 'text/plain', 'file_size': 2762, 'creation_date': '2024-05-30', 'last_modified_date': '2024-05-30'}})"
            ]
          },
          "metadata": {},
          "execution_count": 12
        }
      ]
    },
    {
      "cell_type": "code",
      "source": [
        "response.response"
      ],
      "metadata": {
        "colab": {
          "base_uri": "https://localhost:8080/",
          "height": 36
        },
        "id": "PAKiATZdWH9_",
        "outputId": "75505ad3-4895-4ef6-d47c-e05bac28446b"
      },
      "execution_count": 13,
      "outputs": [
        {
          "output_type": "execute_result",
          "data": {
            "text/plain": [
              "'Alex Johnson and Jamie Lee'"
            ],
            "application/vnd.google.colaboratory.intrinsic+json": {
              "type": "string"
            }
          },
          "metadata": {},
          "execution_count": 13
        }
      ]
    },
    {
      "cell_type": "code",
      "source": [
        "response = query_engine.query(\"What is the email id of Alex Johnson?\")"
      ],
      "metadata": {
        "id": "_IEplkgsWM0I"
      },
      "execution_count": 14,
      "outputs": []
    },
    {
      "cell_type": "code",
      "source": [
        "response.response"
      ],
      "metadata": {
        "colab": {
          "base_uri": "https://localhost:8080/",
          "height": 36
        },
        "id": "pQWfnRhtWM98",
        "outputId": "5e8a4eee-6883-4cc0-da48-f0357d8f0440"
      },
      "execution_count": 15,
      "outputs": [
        {
          "output_type": "execute_result",
          "data": {
            "text/plain": [
              "'The email id of Alex Johnson is alex.johnson@email.com.'"
            ],
            "application/vnd.google.colaboratory.intrinsic+json": {
              "type": "string"
            }
          },
          "metadata": {},
          "execution_count": 15
        }
      ]
    },
    {
      "cell_type": "code",
      "source": [
        "response = query_engine.query(\"give me expirence details of every candidate?\")"
      ],
      "metadata": {
        "id": "UxYmKJaCWNJa"
      },
      "execution_count": 16,
      "outputs": []
    },
    {
      "cell_type": "code",
      "source": [
        "response.response"
      ],
      "metadata": {
        "colab": {
          "base_uri": "https://localhost:8080/",
          "height": 140
        },
        "id": "r4578d7_WaJf",
        "outputId": "d9c56ff8-005e-4dc9-e028-ad0831473b6d"
      },
      "execution_count": 17,
      "outputs": [
        {
          "output_type": "execute_result",
          "data": {
            "text/plain": [
              "'Jamie Lee has experience working as a Data Scientist at ABC Tech Solutions where they developed and deployed machine learning models to improve customer retention, conducted data analysis for marketing campaigns, and implemented predictive models using Python, Scikit-Learn, and TensorFlow. They also worked with cross-functional teams to translate business requirements into technical solutions. Prior to this role, Jamie was a Junior Data Scientist at Data Insights Inc., where they assisted in developing recommendation systems, performed data wrangling and exploratory data analysis on large datasets, built and validated machine learning models, and automated data processing workflows using Python and SQL.\\n\\nAlex Johnson, on the other hand, is a recent graduate with a Bachelor of Science in Computer Science. They have worked on projects such as customer segmentation using K-Means clustering, predictive analytics on housing prices, and sentiment analysis of social media data. Alex has skills in programming languages like Python, R, SQL, and Java, as well as experience with machine learning tools such as Scikit-Learn, TensorFlow, and Keras. Additionally, they have certifications in IBM Data Science and Deep Learning Specialization from Coursera.'"
            ],
            "application/vnd.google.colaboratory.intrinsic+json": {
              "type": "string"
            }
          },
          "metadata": {},
          "execution_count": 17
        }
      ]
    },
    {
      "cell_type": "code",
      "source": [
        "response = query_engine.query(\"what are the profession of the candidates ?\")"
      ],
      "metadata": {
        "id": "0X_RgXaQWg3y"
      },
      "execution_count": 18,
      "outputs": []
    },
    {
      "cell_type": "code",
      "source": [
        "response.response"
      ],
      "metadata": {
        "colab": {
          "base_uri": "https://localhost:8080/",
          "height": 36
        },
        "id": "wDify5QJWhE0",
        "outputId": "013c40d3-4ee4-46be-f95e-48f7a97eca03"
      },
      "execution_count": 19,
      "outputs": [
        {
          "output_type": "execute_result",
          "data": {
            "text/plain": [
              "'The professions of the candidates are Data Scientist.'"
            ],
            "application/vnd.google.colaboratory.intrinsic+json": {
              "type": "string"
            }
          },
          "metadata": {},
          "execution_count": 19
        }
      ]
    },
    {
      "cell_type": "code",
      "source": [
        "response = query_engine.query(\"What is the LinkedIn id of Sam Rivera?\")\n"
      ],
      "metadata": {
        "id": "efAxSkqYW38R"
      },
      "execution_count": 20,
      "outputs": []
    },
    {
      "cell_type": "code",
      "source": [
        "response.response"
      ],
      "metadata": {
        "colab": {
          "base_uri": "https://localhost:8080/",
          "height": 36
        },
        "id": "YmnR1hTiYBgV",
        "outputId": "edfa455a-32b4-4c3d-c4cb-fa6833271477"
      },
      "execution_count": 21,
      "outputs": [
        {
          "output_type": "execute_result",
          "data": {
            "text/plain": [
              "'linkedin.com/in/samrivera'"
            ],
            "application/vnd.google.colaboratory.intrinsic+json": {
              "type": "string"
            }
          },
          "metadata": {},
          "execution_count": 21
        }
      ]
    },
    {
      "cell_type": "code",
      "source": [
        "response = query_engine.query(\"What is the Professional Experience of Sam Rivera?\")\n"
      ],
      "metadata": {
        "id": "NWbsTq1gYJZh"
      },
      "execution_count": 22,
      "outputs": []
    },
    {
      "cell_type": "code",
      "source": [
        "response.response"
      ],
      "metadata": {
        "colab": {
          "base_uri": "https://localhost:8080/",
          "height": 71
        },
        "id": "e9-0PLVWYR7F",
        "outputId": "5f053f9d-ef34-458b-8a48-f46e373ec862"
      },
      "execution_count": 23,
      "outputs": [
        {
          "output_type": "execute_result",
          "data": {
            "text/plain": [
              "\"Sam Rivera's Professional Experience includes working as a Machine Learning Engineer at XYZ Innovations in Anytown, USA from March 2022 to the present. In this role, Sam designed and implemented generative models for synthetic data generation, worked on text generation projects using GPT-3, and developed image generation models using GANs for creative and commercial purposes.\""
            ],
            "application/vnd.google.colaboratory.intrinsic+json": {
              "type": "string"
            }
          },
          "metadata": {},
          "execution_count": 23
        }
      ]
    },
    {
      "cell_type": "code",
      "source": [
        "response = query_engine.query(\"summerize the resume of Sam Rivera\")"
      ],
      "metadata": {
        "id": "mpNQBdUYgsFV"
      },
      "execution_count": 24,
      "outputs": []
    },
    {
      "cell_type": "code",
      "source": [
        "response.response"
      ],
      "metadata": {
        "colab": {
          "base_uri": "https://localhost:8080/",
          "height": 105
        },
        "id": "G9hN_q0Jg0xn",
        "outputId": "6d35274f-9aab-4460-e482-ed76f661f58f"
      },
      "execution_count": 25,
      "outputs": [
        {
          "output_type": "execute_result",
          "data": {
            "text/plain": [
              "'Sam Rivera is a Machine Learning Engineer with experience in developing and deploying generative models, particularly in Generative AI. He has worked on projects involving synthetic data generation, text generation using GPT-3, and image generation using GANs. Sam holds a Master of Science in Computer Science with a GPA of 3.9/4.0 and has skills in programming languages like Python and R, machine learning frameworks such as TensorFlow and PyTorch, and generative models like GANs and Transformers. He has completed projects in synthetic data generation, text generation, and image synthesis, and holds certifications in Deep Learning and Generative Adversarial Networks. Sam is also involved in organizing AI and machine learning meetups and contributing to open-source AI projects on GitHub.'"
            ],
            "application/vnd.google.colaboratory.intrinsic+json": {
              "type": "string"
            }
          },
          "metadata": {},
          "execution_count": 25
        }
      ]
    },
    {
      "cell_type": "code",
      "source": [
        "response = query_engine.query(\"who has the highest experience among all the candidates? and how much is the experience\")"
      ],
      "metadata": {
        "id": "15avVbQlg-wo"
      },
      "execution_count": 28,
      "outputs": []
    },
    {
      "cell_type": "code",
      "source": [
        "response.response"
      ],
      "metadata": {
        "colab": {
          "base_uri": "https://localhost:8080/",
          "height": 36
        },
        "id": "vB07fLvyhFV6",
        "outputId": "f4018777-7c50-4b92-bd93-a977323bd01d"
      },
      "execution_count": 29,
      "outputs": [
        {
          "output_type": "execute_result",
          "data": {
            "text/plain": [
              "'Jamie Lee has the highest experience among all the candidates with 3 years of hands-on experience as a Data Scientist.'"
            ],
            "application/vnd.google.colaboratory.intrinsic+json": {
              "type": "string"
            }
          },
          "metadata": {},
          "execution_count": 29
        }
      ]
    }
  ]
}